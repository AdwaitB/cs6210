{
 "cells": [
  {
   "cell_type": "code",
   "execution_count": 1,
   "id": "b229d7f1",
   "metadata": {},
   "outputs": [],
   "source": [
    "import pandas as pd\n",
    "import matplotlib as mp\n",
    "import matplotlib.pyplot as plt\n",
    "import numpy as np\n",
    "from mpl_toolkits.mplot3d import Axes3D\n",
    "\n",
    "%matplotlib widget"
   ]
  },
  {
   "cell_type": "code",
   "execution_count": 2,
   "id": "9fef3753",
   "metadata": {},
   "outputs": [],
   "source": [
    "figsize_global = (8, 5)"
   ]
  },
  {
   "cell_type": "code",
   "execution_count": 3,
   "id": "17a9772e",
   "metadata": {},
   "outputs": [],
   "source": [
    "def plot_openmp(foldername, title):\n",
    "    dfplot = pd.DataFrame(columns=[title, '# Threads'])\n",
    "\n",
    "    for num_threads in range(2, 9):\n",
    "        df = pd.read_csv(\"../results/openmpresults/\" + foldername + \"/cleaned-omp-example-\" + str(num_threads) + \"t-log.out\") \n",
    "        print(\"Median for num_threads \" + str(num_threads) + \" is \" + str(df['Time'].mean()*10))\n",
    "        dfplot = dfplot.append({'Mean times': df['Time'].mean()*10, '# Threads': num_threads}, ignore_index=True)\n",
    "        \n",
    "    dfplot.plot(x='# Threads', y='Mean times', grid=True, figsize=figsize_global, ylabel=\"Mean Barrier Time (nano sec)\", title=title)\n",
    "    "
   ]
  },
  {
   "cell_type": "code",
   "execution_count": 4,
   "id": "b521bf42",
   "metadata": {},
   "outputs": [],
   "source": [
    "def plot_mpi(foldername, title):\n",
    "    dfplot = pd.DataFrame(columns=[title, '# Threads'])\n",
    "\n",
    "    for num_processes in range(2, 13, 2):\n",
    "        df = pd.read_csv(\"../results/mpiresults/\" + foldername + \"/cleaned-mpi-example-\" + str(num_processes) + \"p-log.out\") \n",
    "        print(\"Median for num_processes \" + str(num_processes) + \" is \" + str(df['Time'].mean()*10))\n",
    "        dfplot = dfplot.append({'Mean times': df['Time'].mean()*10, '# Threads': num_processes}, ignore_index=True)\n",
    "        \n",
    "    dfplot.plot(x='# Threads', y='Mean times', grid=True, figsize=figsize_global, \\\n",
    "                xlabel=\"# Processes\", ylabel=\"Mean Barrier Time (nano sec)\", title=title)\n",
    "    "
   ]
  },
  {
   "cell_type": "code",
   "execution_count": 5,
   "id": "75431103",
   "metadata": {},
   "outputs": [],
   "source": [
    "openmp_mappings = [\n",
    "    [\"baseline_outputs\", \"Baseline\"],\n",
    "    [\"sense_reversal_outputs\", \"Sense Reversal\"],\n",
    "    [\"disseminatoin_outputs\", \"Dissemination\"]\n",
    "]"
   ]
  },
  {
   "cell_type": "code",
   "execution_count": 6,
   "id": "167e3c07",
   "metadata": {},
   "outputs": [],
   "source": [
    "mpi_mappings = [\n",
    "    [\"baseline\", \"Baseline\"],\n",
    "    [\"mcs\", \"MCS\"],\n",
    "    [\"dissemination\", \"Dissemination\"]\n",
    "]"
   ]
  },
  {
   "cell_type": "code",
   "execution_count": 7,
   "id": "1ae199a9",
   "metadata": {},
   "outputs": [
    {
     "name": "stdout",
     "output_type": "stream",
     "text": [
      "Baseline\n",
      "Median for num_threads 2 is 209.5\n",
      "Median for num_threads 3 is 488.33333333333337\n",
      "Median for num_threads 4 is 714.0\n",
      "Median for num_threads 5 is 888.6000000000001\n",
      "Median for num_threads 6 is 1067.6666666666667\n",
      "Median for num_threads 7 is 1393.5714285714287\n",
      "Median for num_threads 8 is 1460.875\n"
     ]
    },
    {
     "data": {
      "application/vnd.jupyter.widget-view+json": {
       "model_id": "5c274be474d34e769e3917ec8fe3a961",
       "version_major": 2,
       "version_minor": 0
      },
      "text/plain": [
       "Canvas(toolbar=Toolbar(toolitems=[('Home', 'Reset original view', 'home', 'home'), ('Back', 'Back to previous …"
      ]
     },
     "metadata": {},
     "output_type": "display_data"
    },
    {
     "name": "stdout",
     "output_type": "stream",
     "text": [
      "Sense Reversal\n",
      "Median for num_threads 2 is 306.5\n",
      "Median for num_threads 3 is 435.33333333333337\n",
      "Median for num_threads 4 is 689.75\n",
      "Median for num_threads 5 is 834.8000000000001\n",
      "Median for num_threads 6 is 1026.0\n",
      "Median for num_threads 7 is 1180.142857142857\n",
      "Median for num_threads 8 is 1386.7499999999998\n"
     ]
    },
    {
     "data": {
      "application/vnd.jupyter.widget-view+json": {
       "model_id": "010bd03829a64349ab698ccc8950f9fb",
       "version_major": 2,
       "version_minor": 0
      },
      "text/plain": [
       "Canvas(toolbar=Toolbar(toolitems=[('Home', 'Reset original view', 'home', 'home'), ('Back', 'Back to previous …"
      ]
     },
     "metadata": {},
     "output_type": "display_data"
    },
    {
     "name": "stdout",
     "output_type": "stream",
     "text": [
      "Dissemination\n",
      "Median for num_threads 2 is 323.0\n",
      "Median for num_threads 3 is 508.00000000000006\n",
      "Median for num_threads 4 is 685.75\n",
      "Median for num_threads 5 is 883.6\n",
      "Median for num_threads 6 is 1095.3333333333335\n",
      "Median for num_threads 7 is 1390.4285714285716\n",
      "Median for num_threads 8 is 1477.75\n"
     ]
    },
    {
     "data": {
      "application/vnd.jupyter.widget-view+json": {
       "model_id": "0e62ecd67cd04cb3879f7595bc92fcd3",
       "version_major": 2,
       "version_minor": 0
      },
      "text/plain": [
       "Canvas(toolbar=Toolbar(toolitems=[('Home', 'Reset original view', 'home', 'home'), ('Back', 'Back to previous …"
      ]
     },
     "metadata": {},
     "output_type": "display_data"
    }
   ],
   "source": [
    "for [foldername, title] in openmp_mappings:\n",
    "    print(title)\n",
    "    plot_openmp(foldername, title)"
   ]
  },
  {
   "cell_type": "code",
   "execution_count": 8,
   "id": "bfc59a35",
   "metadata": {},
   "outputs": [
    {
     "name": "stdout",
     "output_type": "stream",
     "text": [
      "Baseline\n",
      "Median for num_processes 2 is 371.5\n",
      "Median for num_processes 4 is 613.5\n",
      "Median for num_processes 6 is 848.5\n",
      "Median for num_processes 8 is 829.875\n",
      "Median for num_processes 10 is 1074.6999999999998\n",
      "Median for num_processes 12 is 1265.25\n"
     ]
    },
    {
     "data": {
      "application/vnd.jupyter.widget-view+json": {
       "model_id": "c0699e2bef2e48a8a9c1d2c145d4a7bc",
       "version_major": 2,
       "version_minor": 0
      },
      "text/plain": [
       "Canvas(toolbar=Toolbar(toolitems=[('Home', 'Reset original view', 'home', 'home'), ('Back', 'Back to previous …"
      ]
     },
     "metadata": {},
     "output_type": "display_data"
    },
    {
     "name": "stdout",
     "output_type": "stream",
     "text": [
      "MCS\n",
      "Median for num_processes 2 is 513.5\n",
      "Median for num_processes 4 is 891.9999999999999\n",
      "Median for num_processes 6 is 1718.166666666667\n",
      "Median for num_processes 8 is 2151.5\n",
      "Median for num_processes 10 is 2484.3\n",
      "Median for num_processes 12 is 2669.8333333333335\n"
     ]
    },
    {
     "data": {
      "application/vnd.jupyter.widget-view+json": {
       "model_id": "0458b7c784f145528b879fa79365ac02",
       "version_major": 2,
       "version_minor": 0
      },
      "text/plain": [
       "Canvas(toolbar=Toolbar(toolitems=[('Home', 'Reset original view', 'home', 'home'), ('Back', 'Back to previous …"
      ]
     },
     "metadata": {},
     "output_type": "display_data"
    },
    {
     "name": "stdout",
     "output_type": "stream",
     "text": [
      "Dissemination\n",
      "Median for num_processes 2 is 337.5\n",
      "Median for num_processes 4 is 621.5\n",
      "Median for num_processes 6 is 907.3333333333334\n",
      "Median for num_processes 8 is 903.125\n",
      "Median for num_processes 10 is 1220.2\n",
      "Median for num_processes 12 is 1365.25\n"
     ]
    },
    {
     "data": {
      "application/vnd.jupyter.widget-view+json": {
       "model_id": "a161e74f050b461eb2c27c23f4c4d2dc",
       "version_major": 2,
       "version_minor": 0
      },
      "text/plain": [
       "Canvas(toolbar=Toolbar(toolitems=[('Home', 'Reset original view', 'home', 'home'), ('Back', 'Back to previous …"
      ]
     },
     "metadata": {},
     "output_type": "display_data"
    }
   ],
   "source": [
    "for [foldername, title] in mpi_mappings:\n",
    "    print(title)\n",
    "    plot_mpi(foldername, title)\n",
    "    "
   ]
  },
  {
   "cell_type": "code",
   "execution_count": 9,
   "id": "640a0414",
   "metadata": {},
   "outputs": [],
   "source": [
    "def plot_openmp_all():\n",
    "    result = None\n",
    "    for [foldername, title] in openmp_mappings:\n",
    "        df = pd.DataFrame()\n",
    "        for num_threads in range(2, 9):\n",
    "            dftemp = pd.read_csv(\"../results/openmpresults/\" + foldername + \"/cleaned-omp-example-\" + str(num_threads) + \"t-log.out\") \n",
    "            df = df.append({title: dftemp['Time'].mean()*10, '# Threads': num_threads}, ignore_index=True)\n",
    "        # result = pd.concat([result, df], axis = 1, join=\"outer\")\n",
    "        \n",
    "        if result is None:\n",
    "            result = df\n",
    "        else:\n",
    "            result = result.join(df[title])\n",
    "        # print(result)\n",
    "    result.plot(x='# Threads', grid=True, figsize=figsize_global, ylabel=\"Mean Barrier Time (nano sec)\", title=\"Comparison\")\n"
   ]
  },
  {
   "cell_type": "code",
   "execution_count": 10,
   "id": "e5a94b63",
   "metadata": {},
   "outputs": [],
   "source": [
    "def plot_mpi_all():\n",
    "    result = None\n",
    "    for [foldername, title] in mpi_mappings:\n",
    "        df = pd.DataFrame()\n",
    "        for num_processes in range(2, 13, 2):\n",
    "            dftemp = pd.read_csv(\"../results/mpiresults/\" + foldername + \"/cleaned-mpi-example-\" + str(num_processes) + \"p-log.out\") \n",
    "            df = df.append({title: dftemp['Time'].mean()*10, '# Threads': num_processes}, ignore_index=True)\n",
    "        # result = pd.concat([result, df], axis = 1, join=\"outer\")\n",
    "        \n",
    "        if result is None:\n",
    "            result = df\n",
    "        else:\n",
    "            result = result.join(df[title])\n",
    "        # print(result)\n",
    "    result.plot(x='# Threads', grid=True, figsize=figsize_global, ylabel=\"Mean Barrier Time (nano sec)\", title=\"Comparison\")\n"
   ]
  },
  {
   "cell_type": "code",
   "execution_count": 11,
   "id": "24318edc",
   "metadata": {},
   "outputs": [
    {
     "data": {
      "application/vnd.jupyter.widget-view+json": {
       "model_id": "071fe381dc9e4b55856202ae1992eb3d",
       "version_major": 2,
       "version_minor": 0
      },
      "text/plain": [
       "Canvas(toolbar=Toolbar(toolitems=[('Home', 'Reset original view', 'home', 'home'), ('Back', 'Back to previous …"
      ]
     },
     "metadata": {},
     "output_type": "display_data"
    }
   ],
   "source": [
    "plot_openmp_all()"
   ]
  },
  {
   "cell_type": "code",
   "execution_count": 12,
   "id": "af8681e7",
   "metadata": {},
   "outputs": [
    {
     "data": {
      "application/vnd.jupyter.widget-view+json": {
       "model_id": "81f811a3cba84cecaa468cbea08c294f",
       "version_major": 2,
       "version_minor": 0
      },
      "text/plain": [
       "Canvas(toolbar=Toolbar(toolitems=[('Home', 'Reset original view', 'home', 'home'), ('Back', 'Back to previous …"
      ]
     },
     "metadata": {},
     "output_type": "display_data"
    }
   ],
   "source": [
    "plot_mpi_all()"
   ]
  },
  {
   "cell_type": "code",
   "execution_count": 13,
   "id": "534c1958",
   "metadata": {},
   "outputs": [],
   "source": [
    "combined_data = [\n",
    "    [2, 12, 2690],\n",
    "    [2, 10, 2395],\n",
    "    [2, 8, 1350],\n",
    "    [2, 6, 455],\n",
    "    [4, 6, 1230],\n",
    "    [2, 4, 255],\n",
    "    [4, 4, 407],\n",
    "    [5, 4, 680],\n",
    "    [2, 2, 225],\n",
    "    [4, 2, 280],\n",
    "    [6, 2, 380],\n",
    "    [8, 2, 430]\n",
    "]\n",
    "combined = pd.DataFrame(combined_data, columns=[\"Processes\", \"Threads\", \"Mean Barrier Time\"]);"
   ]
  },
  {
   "cell_type": "code",
   "execution_count": 16,
   "id": "52a8413d",
   "metadata": {},
   "outputs": [
    {
     "data": {
      "application/vnd.jupyter.widget-view+json": {
       "model_id": "906cf4579f5d4f7f900792f4b90c85f1",
       "version_major": 2,
       "version_minor": 0
      },
      "text/plain": [
       "Canvas(toolbar=Toolbar(toolitems=[('Home', 'Reset original view', 'home', 'home'), ('Back', 'Back to previous …"
      ]
     },
     "metadata": {},
     "output_type": "display_data"
    }
   ],
   "source": [
    "def plot_combined_log():\n",
    "    plot = plt.figure()\n",
    "    plot = plt.axes(projection='3d')\n",
    "    \n",
    "    for num_proc in range(2, 11, 2):\n",
    "        X = combined[\"Processes\"][combined[\"Processes\"] == num_proc]\n",
    "        Y = combined[\"Threads\"][combined[\"Processes\"] == num_proc]\n",
    "        Z = np.log(combined[\"Mean Barrier Time\"][combined[\"Processes\"] == num_proc]*10)\n",
    "        \n",
    "        plot.scatter3D(X, Y, Z)\n",
    "    \n",
    "    plot.set_xlabel('Processes')\n",
    "    plot.set_ylabel('Threads')\n",
    "    plot.set_zlabel('Log of Mean Barrier Time (nano sec)')\n",
    "    plt.show()\n",
    "\n",
    "plot_combined_log()"
   ]
  },
  {
   "cell_type": "code",
   "execution_count": 17,
   "id": "0c1fda47",
   "metadata": {},
   "outputs": [
    {
     "data": {
      "application/vnd.jupyter.widget-view+json": {
       "model_id": "8f07336d10f645228c125d297b9626b0",
       "version_major": 2,
       "version_minor": 0
      },
      "text/plain": [
       "Canvas(toolbar=Toolbar(toolitems=[('Home', 'Reset original view', 'home', 'home'), ('Back', 'Back to previous …"
      ]
     },
     "metadata": {},
     "output_type": "display_data"
    }
   ],
   "source": [
    "def plot_combined():\n",
    "    plot = plt.figure()\n",
    "    plot = plt.axes(projection='3d')\n",
    "    \n",
    "    for num_proc in range(2, 11, 2):\n",
    "        X = combined[\"Processes\"][combined[\"Processes\"] == num_proc]\n",
    "        Y = combined[\"Threads\"][combined[\"Processes\"] == num_proc]\n",
    "        Z = combined[\"Mean Barrier Time\"][combined[\"Processes\"] == num_proc]*10\n",
    "        \n",
    "        plot.scatter3D(X, Y, Z)\n",
    "    \n",
    "    plot.set_xlabel('Processes')\n",
    "    plot.set_ylabel('Threads')\n",
    "    plot.set_zlabel('Mean Barrier Time (nano sec)')\n",
    "    plt.show()\n",
    "\n",
    "plot_combined()"
   ]
  },
  {
   "cell_type": "code",
   "execution_count": null,
   "id": "998e5eec",
   "metadata": {},
   "outputs": [],
   "source": []
  }
 ],
 "metadata": {
  "kernelspec": {
   "display_name": "Python 3",
   "language": "python",
   "name": "python3"
  },
  "language_info": {
   "codemirror_mode": {
    "name": "ipython",
    "version": 3
   },
   "file_extension": ".py",
   "mimetype": "text/x-python",
   "name": "python",
   "nbconvert_exporter": "python",
   "pygments_lexer": "ipython3",
   "version": "3.8.8"
  }
 },
 "nbformat": 4,
 "nbformat_minor": 5
}
